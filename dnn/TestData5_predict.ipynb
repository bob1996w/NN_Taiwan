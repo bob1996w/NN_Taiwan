{
 "cells": [
  {
   "cell_type": "code",
   "execution_count": 1,
   "metadata": {
    "collapsed": true
   },
   "outputs": [],
   "source": [
    "import tensorflow as tf\n",
    "import pandas as pd\n",
    "import numpy as np\n",
    "import math"
   ]
  },
  {
   "cell_type": "code",
   "execution_count": 2,
   "metadata": {
    "collapsed": true
   },
   "outputs": [],
   "source": [
    "export_dir = './final_model/'\n",
    "batch_size = 10000\n",
    "disp_log = 50"
   ]
  },
  {
   "cell_type": "code",
   "execution_count": 3,
   "metadata": {},
   "outputs": [
    {
     "name": "stdout",
     "output_type": "stream",
     "text": [
      "Total batches: 420\n"
     ]
    }
   ],
   "source": [
    "# write predict to file\n",
    "dw = pd.read_csv('./DL_final_project/DL_Taiwan_data/sinica/201703_Taiwan.csv')\n",
    "dfw = dw.assign(Timestamp = pd.to_datetime(dw['Date']+' '+dw['Time']))\n",
    "dfw = dfw.assign(Hour = dfw['Timestamp'].dt.hour)\n",
    "dfw = dfw[['Hour','PM10','PM1','Temperature','Humidity','lon','lat']]\n",
    "\n",
    "predict_values = np.zeros(len(dfw))\n",
    "n_batches = math.ceil(len(dfw) / batch_size)\n",
    "print('Total batches:',n_batches)"
   ]
  },
  {
   "cell_type": "code",
   "execution_count": 5,
   "metadata": {},
   "outputs": [
    {
     "name": "stdout",
     "output_type": "stream",
     "text": [
      "INFO:tensorflow:Restoring parameters from b'./final_model/variables\\\\variables'\n",
      "batch 0\n",
      "batch 50\n",
      "batch 100\n",
      "batch 150\n",
      "batch 200\n",
      "batch 250\n",
      "batch 300\n",
      "batch 350\n",
      "batch 400\n",
      "predicted_values len = 4191423\n",
      "saving to ./predict.csv\n",
      "saved to ./predict.csv\n"
     ]
    }
   ],
   "source": [
    "with tf.Session(graph=tf.Graph()) as sess:\n",
    "    tf.saved_model.loader.load(sess, [\"tag\"], export_dir)\n",
    "    graph = tf.get_default_graph()\n",
    "    X = graph.get_tensor_by_name(\"Input/X:0\")\n",
    "    is_training = graph.get_tensor_by_name(\"Input/is_training:0\")\n",
    "    predict = graph.get_tensor_by_name(\"Predict/predict:0\")\n",
    "    \n",
    "    for i in range(n_batches):\n",
    "        if i % disp_log == 0:\n",
    "            print('batch',i)\n",
    "        if i == n_batches - 1:\n",
    "            X_batch = dfw[i*batch_size:].values\n",
    "            predict_batch = sess.run(predict, {is_training: False, X: X_batch})\n",
    "            predict_values[i*batch_size:] = predict_batch[:,0]\n",
    "        else:\n",
    "            X_batch = dfw[i*batch_size:(i+1)*batch_size].values\n",
    "            predict_batch = sess.run(predict, {is_training: False, X: X_batch})\n",
    "            predict_values[i*batch_size:(i+1)*batch_size] = predict_batch[:,0]\n",
    "        \n",
    "    # Fixme!!\n",
    "    print(\"predicted_values len =\",len(predict_values))\n",
    "    predicted_df = pd.DataFrame({'PM2.5':predict_values})\n",
    "    dw['PM2.5']=predicted_df['PM2.5']\n",
    "    print('saving to ./predict.csv')\n",
    "    dw.to_csv('./predict.csv', index=False)\n",
    "    print('saved to ./predict.csv')"
   ]
  },
  {
   "cell_type": "code",
   "execution_count": null,
   "metadata": {
    "collapsed": true
   },
   "outputs": [],
   "source": []
  }
 ],
 "metadata": {
  "kernelspec": {
   "display_name": "Python 3",
   "language": "python",
   "name": "python3"
  },
  "language_info": {
   "codemirror_mode": {
    "name": "ipython",
    "version": 3
   },
   "file_extension": ".py",
   "mimetype": "text/x-python",
   "name": "python",
   "nbconvert_exporter": "python",
   "pygments_lexer": "ipython3",
   "version": "3.6.2"
  }
 },
 "nbformat": 4,
 "nbformat_minor": 2
}
